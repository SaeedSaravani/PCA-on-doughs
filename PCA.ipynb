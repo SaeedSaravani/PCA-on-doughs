{
 "cells": [
  {
   "cell_type": "code",
   "execution_count": 121,
   "metadata": {},
   "outputs": [],
   "source": [
    "import pandas as pd\n",
    "import numpy as np\n",
    "from numpy import linalg as LA\n",
    "import matplotlib.pyplot as plt"
   ]
  },
  {
   "cell_type": "code",
   "execution_count": 122,
   "metadata": {},
   "outputs": [
    {
     "name": "stderr",
     "output_type": "stream",
     "text": [
      "C:\\Users\\Lenovo\\Anaconda3\\lib\\site-packages\\ipykernel_launcher.py:1: FutureWarning: read_table is deprecated, use read_csv instead.\n",
      "  \"\"\"Entry point for launching an IPython kernel.\n"
     ]
    }
   ],
   "source": [
    "df = pd.read_table(\"doughs.dat\", sep=\"\\s+\", usecols=['id','PressureLoad','DefVol','Bacteria','Yeast','pH','TTA','Restaurant'])\n",
    "df = df.drop('id',axis = 1)\n",
    "X = df.drop('Restaurant', axis=1).to_numpy()\n",
    "y = df['Restaurant'].to_numpy()"
   ]
  },
  {
   "cell_type": "markdown",
   "metadata": {},
   "source": [
    "# part a"
   ]
  },
  {
   "cell_type": "code",
   "execution_count": 53,
   "metadata": {},
   "outputs": [],
   "source": [
    "def compute_Z(X, centering=True, scaling=True):\n",
    "    # copying X because need a float type\n",
    "    Z = X.astype(float)\n",
    "\n",
    "    # shapes\n",
    "    rows = Z.shape[0]\n",
    "    cols = Z.shape[1]\n",
    "\n",
    "    if centering:\n",
    "        # means calculation for centering\n",
    "        means = X.mean(0)\n",
    "        for i in range(rows):\n",
    "            for j in range(cols):\n",
    "                Z[i, j] = Z[i, j] - means[j]\n",
    "\n",
    "    # scaling with std dev\n",
    "    if scaling:\n",
    "        std = np.std(Z, axis=0)\n",
    "        for i in range(cols):\n",
    "            for j in range(rows):\n",
    "                Z[j][i] = Z[j][i] / std[i]  # standardize every feature\n",
    "\n",
    "    return Z\n",
    "\n",
    "\n",
    "def compute_covariance_matrix(Z):\n",
    "    return Z.T.dot(Z)\n",
    "\n",
    "\n",
    "def find_pcs(COV):\n",
    "    eigenValues, eigenVectors = LA.eig(COV)\n",
    "    idx = eigenValues.argsort()[::-1]\n",
    "    eigenValues = eigenValues[idx]\n",
    "    eigenVectors = eigenVectors[:, idx]\n",
    "\n",
    "    return eigenValues, eigenVectors\n",
    "\n",
    "\n",
    "def project_data(Z, PCS, L, k, var):\n",
    "    eigen_pairs = [(np.abs(L[i]), PCS[:, i]) for i in range(len(L))]\n",
    "    eigen_pairs.sort(key=lambda x: x[0], reverse=True)\n",
    "\n",
    "    # copy of components could be useful\n",
    "    component_matrix = np.copy(PCS)\n",
    "    if k != 0:\n",
    "        # delete unnecessary components\n",
    "        component_matrix = np.delete(component_matrix, range(k, component_matrix.shape[1]), axis=1)\n",
    "        Z_star = Z.dot(component_matrix)\n",
    "    else:\n",
    "        print()\n",
    "        tot_var = 0\n",
    "        eigen_val_index = 0\n",
    "        while tot_var < var:\n",
    "            tot_var = tot_var + L[eigen_val_index] / np.sum(L)\n",
    "            eigen_val_index = eigen_val_index + 1\n",
    "        component_count = eigen_val_index\n",
    "        component_matrix = np.delete(component_matrix, range(component_count, component_matrix.shape[1]), axis=1)\n",
    "        Z_star = Z.dot(component_matrix)\n",
    "    return Z_star\n"
   ]
  },
  {
   "cell_type": "code",
   "execution_count": 67,
   "metadata": {},
   "outputs": [],
   "source": [
    "Z = compute_Z(X, centering=True, scaling=False)\n",
    "cov = compute_covariance_matrix(Z)\n",
    "eigenValues, eigenVectors = find_pcs(cov)"
   ]
  },
  {
   "cell_type": "code",
   "execution_count": 68,
   "metadata": {},
   "outputs": [
    {
     "data": {
      "text/plain": [
       "array([4.22284393e+03, 1.54252434e+03, 2.65875883e+01, 8.12218533e+00,\n",
       "       1.39520298e+00, 3.00227145e-01])"
      ]
     },
     "execution_count": 68,
     "metadata": {},
     "output_type": "execute_result"
    }
   ],
   "source": [
    "eigenValues"
   ]
  },
  {
   "cell_type": "code",
   "execution_count": 69,
   "metadata": {},
   "outputs": [
    {
     "data": {
      "text/plain": [
       "0.9937251594068908"
      ]
     },
     "execution_count": 69,
     "metadata": {},
     "output_type": "execute_result"
    }
   ],
   "source": [
    "sum(eigenValues[0:2])/sum(eigenValues)"
   ]
  },
  {
   "cell_type": "markdown",
   "metadata": {},
   "source": [
    "# test of normality of data (part b)"
   ]
  },
  {
   "cell_type": "code",
   "execution_count": 84,
   "metadata": {},
   "outputs": [],
   "source": [
    "from scipy import stats\n",
    "\n",
    "def shapiro_test(X):\n",
    "    shapiro_test = stats.shapiro(X)\n",
    "    statistic,pvalue = shapiro_test \n",
    "    if pvalue<0.05:\n",
    "        print('null hypothesis that the data are normally distributed is rejected')\n",
    "    else:\n",
    "        print('data is normal')\n"
   ]
  },
  {
   "cell_type": "code",
   "execution_count": 85,
   "metadata": {},
   "outputs": [
    {
     "name": "stdout",
     "output_type": "stream",
     "text": [
      "number of component is : 1 \n",
      "data is normal\n",
      "number of component is : 2 \n",
      "data is normal\n",
      "number of component is : 3 \n",
      "null hypothesis that the data are normally distributed is rejected\n",
      "number of component is : 4 \n",
      "null hypothesis that the data are normally distributed is rejected\n",
      "number of component is : 5 \n",
      "null hypothesis that the data are normally distributed is rejected\n",
      "number of component is : 6 \n",
      "null hypothesis that the data are normally distributed is rejected\n"
     ]
    }
   ],
   "source": [
    "for i in range(1,7):\n",
    "    Z_star = project_data(Z,eigenVectors, eigenValues, i, 0)\n",
    "    print(\"number of component is : {} \".format(i))\n",
    "    shapiro_test(Z_star)"
   ]
  },
  {
   "cell_type": "markdown",
   "metadata": {},
   "source": [
    "# part C"
   ]
  },
  {
   "cell_type": "code",
   "execution_count": 123,
   "metadata": {},
   "outputs": [],
   "source": [
    "Z_star = project_data(Z,eigenVectors, eigenValues, 3, 0)\n",
    "y = np.where(y==1 , y, 2)"
   ]
  },
  {
   "cell_type": "code",
   "execution_count": 124,
   "metadata": {},
   "outputs": [
    {
     "data": {
      "image/png": "[encoded data removed]",
      "text/plain": [
       "<Figure size 432x288 with 1 Axes>"
      ]
     },
     "metadata": {
      "needs_background": "light"
     },
     "output_type": "display_data"
    }
   ],
   "source": [
    "fig = plt.figure()\n",
    "ax = plt.axes(projection=\"3d\")\n",
    "plt.title('with three PCs')\n",
    "x_points = Z_star[:,0]\n",
    "y_points = Z_star[:,1]\n",
    "z_points= Z_star[:,2]\n",
    "ax.scatter3D(x_points, y_points, z_points, c=y)\n",
    "plt.show()"
   ]
  },
  {
   "cell_type": "code",
   "execution_count": 125,
   "metadata": {},
   "outputs": [
    {
     "data": {
      "image/png": "[encoded data removed]",
      "text/plain": [
       "<Figure size 432x288 with 1 Axes>"
      ]
     },
     "metadata": {
      "needs_background": "light"
     },
     "output_type": "display_data"
    }
   ],
   "source": [
    "Z_star = project_data(Z,eigenVectors, eigenValues, 2, 0)\n",
    "fig = plt.figure()\n",
    "ax = plt.axes()\n",
    "\n",
    "x_points = Z_star[:,0]\n",
    "y_points = Z_star[:,1]\n",
    "ax.scatter(x_points, y_points,c=y)\n",
    "plt.title('with two PCs')\n",
    "plt.show()"
   ]
  },
  {
   "cell_type": "code",
   "execution_count": null,
   "metadata": {},
   "outputs": [],
   "source": []
  },
  {
   "cell_type": "code",
   "execution_count": null,
   "metadata": {},
   "outputs": [],
   "source": []
  }
 ],
 "metadata": {
  "kernelspec": {
   "display_name": "Python 3",
   "language": "python",
   "name": "python3"
  },
  "language_info": {
   "codemirror_mode": {
    "name": "ipython",
    "version": 3
   },
   "file_extension": ".py",
   "mimetype": "text/x-python",
   "name": "python",
   "nbconvert_exporter": "python",
   "pygments_lexer": "ipython3",
   "version": "3.7.3"
  }
 },
 "nbformat": 4,
 "nbformat_minor": 2
}
